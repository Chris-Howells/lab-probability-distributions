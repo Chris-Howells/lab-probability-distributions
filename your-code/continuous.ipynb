{
 "cells": [
  {
   "cell_type": "markdown",
   "metadata": {},
   "source": [
    "# Before your start:\n",
    "\n",
    "    Read the README.md file\n",
    "    Comment as much as you can and use the resources (README.md file)\n",
    "    Happy learning!"
   ]
  },
  {
   "cell_type": "markdown",
   "metadata": {},
   "source": [
    "In this exercise, we  will generate random numbers from the continuous disributions we learned in the lesson. There are two ways to generate random numbers:\n",
    "\n",
    "1. Using the numpy library \n",
    "1. using the Scipy library \n",
    "\n",
    "Use either or both of the lbraries in this exercise."
   ]
  },
  {
   "cell_type": "markdown",
   "metadata": {},
   "source": [
    "## Uniform Distribution\n",
    "\n",
    "To generate uniform random numbers between any two given values using scipy, we can either use the following code or the code that we have\n",
    "discussed in class:"
   ]
  },
  {
   "cell_type": "code",
   "execution_count": 2,
   "metadata": {},
   "outputs": [
    {
     "name": "stdout",
     "output_type": "stream",
     "text": [
      "[2.59475458 2.71079376 2.04632695 2.04469734 2.6178506  2.27593728\n",
      " 2.9545198  2.13428998 2.45775523 2.60191585]\n"
     ]
    }
   ],
   "source": [
    "from scipy.stats import uniform\n",
    "x = uniform.rvs(size=10)\n",
    "a = 2\n",
    "b = 3\n",
    "randoms  = a + (b-a)*x\n",
    "print(randoms)"
   ]
  },
  {
   "cell_type": "markdown",
   "metadata": {},
   "source": [
    "**Your task:**\n",
    "\n",
    "1. Based on the code above, write a function that generates uniformly distributed random numbers. There are several requirements for your function:\n",
    "    * It should accept 3 parameters: \n",
    "        * `bottom` - the lower boundary of the generated numbers\n",
    "        * `ceiling` - the upper boundary of the generated numbers\n",
    "        * `count` - how many numbers to generate\n",
    "    * It should return an array of uniformly distributed random numbers\n",
    "\n",
    "1. Call your function with 2 sets of params below:\n",
    "    * bottom=10, ceiling=15, count=100\n",
    "    * bottom=10, ceiling=60, count=1,000\n",
    "\n",
    "1. Plot the uniform distributions generated above using histograms, where x axis is the value and y axis is the count. Let the histogram's number of bins be 10.\n",
    "\n",
    "Your output should look like below:\n",
    "\n",
    "![uniform distribution](ud.png)"
   ]
  },
  {
   "cell_type": "code",
   "execution_count": 5,
   "metadata": {},
   "outputs": [
    {
     "data": {
      "text/plain": [
       "array([11.57094778, 13.48024862, 12.45429214, 14.7528447 , 14.02163242,\n",
       "       10.98314483, 10.98578351, 10.69811904, 12.16161204, 11.29624347,\n",
       "       14.28947684, 12.81610218, 10.60218789, 12.56944415, 12.90514021,\n",
       "       13.13733276, 12.70501201, 14.17358872, 13.77996186, 11.04660205,\n",
       "       14.56611697, 13.58578182, 12.92562881, 14.50579052, 14.83569867,\n",
       "       10.03215897, 10.13729262, 13.11487951, 13.22518809, 14.64267786,\n",
       "       11.08507732, 11.96343808, 12.88034671, 13.43052861, 10.63107262,\n",
       "       13.59390919, 11.91694406, 11.3071208 , 14.36199249, 11.59825616,\n",
       "       13.46501857, 12.02224121, 14.02676944, 13.06665165, 11.53941299,\n",
       "       10.31809163, 10.39775148, 14.35826195, 10.05440865, 13.80904359,\n",
       "       11.40251277, 10.98654694, 11.35894263, 13.70821849, 13.54599661,\n",
       "       13.8772183 , 14.918543  , 12.6888492 , 14.91425281, 14.88215275,\n",
       "       12.90209555, 14.75892585, 10.45308082, 13.32019642, 12.4158525 ,\n",
       "       10.4401289 , 10.36634401, 13.16624856, 14.37889916, 12.43448699,\n",
       "       12.72212696, 13.34695546, 10.41690176, 11.40705148, 12.4662697 ,\n",
       "       14.23768394, 13.45306117, 10.94870588, 11.55495216, 11.18273087,\n",
       "       10.20028985, 12.58938661, 11.1748736 , 13.18722649, 12.5282312 ,\n",
       "       13.66463013, 13.70964784, 13.10430658, 12.53261889, 10.3989329 ,\n",
       "       10.44468124, 10.87365383, 11.60122209, 12.36178677, 11.46064199,\n",
       "       13.87987235, 14.90480464, 12.79981838, 14.58044871, 13.55881704])"
      ]
     },
     "execution_count": 5,
     "metadata": {},
     "output_type": "execute_result"
    }
   ],
   "source": [
    "# your code here\n",
    "import numpy as np\n",
    "count_100 = np.random.uniform(low = 10, high = 15, size = 100)\n",
    "count_100"
   ]
  },
  {
   "cell_type": "code",
   "execution_count": 6,
   "metadata": {},
   "outputs": [],
   "source": [
    "#define the function\n",
    "\n",
    "def uniform_dist(x, y, z):\n",
    "    count_100 = np.random.uniform(low = x, high = y, size = z)\n",
    "    return count_100"
   ]
  },
  {
   "cell_type": "code",
   "execution_count": 8,
   "metadata": {},
   "outputs": [
    {
     "data": {
      "text/plain": [
       "array([12.64833123, 11.59824251, 11.21266204, 13.55115962, 12.08640824,\n",
       "       10.13043191, 12.52340883, 12.70822457, 14.49193636, 14.93127926,\n",
       "       10.02389659, 10.66754535, 11.50883674, 14.80661488, 11.43437859,\n",
       "       12.97429701, 11.67135831, 12.03038285, 10.88562225, 10.43460105,\n",
       "       12.67681143, 12.51895834, 14.44264402, 13.21647247, 13.69383778,\n",
       "       13.71252561, 12.46282879, 13.61423987, 11.73868027, 10.48171074,\n",
       "       11.81890287, 11.85881098, 13.49669051, 12.28849692, 12.11474997,\n",
       "       13.71544456, 12.6886616 , 14.50985649, 11.29547521, 12.11404685,\n",
       "       14.873894  , 12.89760414, 11.19960434, 10.09803064, 10.18986492,\n",
       "       10.01959868, 13.39508943, 10.9913117 , 13.83274128, 11.57632849,\n",
       "       10.41077847, 14.98733044, 11.32408024, 12.90273937, 14.1395376 ,\n",
       "       14.11293434, 13.69468885, 10.72298521, 11.22147643, 13.70717885,\n",
       "       14.76550607, 10.13756612, 11.54220136, 14.60633653, 12.74901615,\n",
       "       14.57131214, 14.41090037, 11.28537016, 10.46216358, 10.77083419,\n",
       "       12.09683711, 13.84014842, 10.3263931 , 10.78117196, 11.33112901,\n",
       "       10.82145298, 10.69741921, 10.79985194, 14.35766328, 10.35038882,\n",
       "       10.17644157, 12.98642442, 14.18591903, 14.4173899 , 12.24575578,\n",
       "       13.39321574, 14.14157352, 10.33543503, 11.09401149, 10.39436208,\n",
       "       10.50949166, 11.04944532, 13.45221458, 10.63204187, 10.99197037,\n",
       "       14.12086795, 13.1399981 , 11.52924564, 11.14434893, 12.23366918])"
      ]
     },
     "execution_count": 8,
     "metadata": {},
     "output_type": "execute_result"
    }
   ],
   "source": [
    "#give the parameters\n",
    "\n",
    "uniform_dist(10, 15, 100)\n"
   ]
  },
  {
   "cell_type": "code",
   "execution_count": 14,
   "metadata": {},
   "outputs": [
    {
     "data": {
      "text/plain": [
       "(array([13., 12., 10., 11.,  8., 14., 12.,  3.,  8.,  9.]),\n",
       " array([10.01092963, 10.50043216, 10.98993468, 11.47943721, 11.96893974,\n",
       "        12.45844226, 12.94794479, 13.43744731, 13.92694984, 14.41645237,\n",
       "        14.90595489]),\n",
       " <a list of 10 Patch objects>)"
      ]
     },
     "execution_count": 14,
     "metadata": {},
     "output_type": "execute_result"
    },
    {
     "data": {
      "image/png": "[encoded data removed]",
      "text/plain": [
       "<Figure size 432x288 with 1 Axes>"
      ]
     },
     "metadata": {
      "needs_background": "light"
     },
     "output_type": "display_data"
    }
   ],
   "source": [
    "#plot the graph \n",
    "\n",
    "import matplotlib.pyplot as plt\n",
    "\n",
    "plt.hist(uniform_dist(10, 15, 100))"
   ]
  },
  {
   "cell_type": "code",
   "execution_count": 11,
   "metadata": {},
   "outputs": [
    {
     "data": {
      "text/plain": [
       "array([45.67907379, 57.91899663, 48.96998712, 53.47326743, 57.59018377,\n",
       "       33.45054959, 35.05320375, 38.0768593 , 39.13624126, 43.20707648,\n",
       "       43.89347701, 33.63589836, 26.2042759 , 19.50159262, 45.64604094,\n",
       "       40.08471072, 51.50397951, 18.57967011, 15.18874725, 42.35024496,\n",
       "       11.60421859, 35.73346183, 30.13572834, 29.74022175, 37.34411527,\n",
       "       52.86836133, 30.21440151, 59.33329611, 53.84641647, 31.53828652,\n",
       "       30.19769801, 44.02938989, 15.18263279, 34.47626782, 26.26647342,\n",
       "       22.28187431, 47.7953684 , 18.15614713, 38.90126491, 43.32518782,\n",
       "       35.61413404, 28.08372518, 10.56826057, 28.03221086, 45.92188281,\n",
       "       36.04732821, 11.60199336, 20.00976689, 31.35287294, 36.69968822,\n",
       "       18.18720423, 44.1564408 , 58.44577713, 45.7496896 , 40.93114477,\n",
       "       45.22277585, 47.1359347 , 22.63787812, 39.5086531 , 42.61107495,\n",
       "       45.6571843 , 18.68059005, 12.32817228, 47.03029285, 56.85298928,\n",
       "       58.48434041, 19.73675999, 33.35457609, 18.79991014, 11.93273119,\n",
       "       54.98773204, 34.32688928, 22.17417031, 27.17011467, 28.95955408,\n",
       "       40.93463055, 51.52490306, 18.05623718, 15.327409  , 18.51268705,\n",
       "       22.20488449, 48.63847897, 23.42148403, 49.13864753, 49.21216209,\n",
       "       51.90229478, 43.00540697, 39.67996978, 38.76941266, 27.82582488,\n",
       "       41.07362683, 45.30209864, 51.59445293, 25.49397209, 33.65856523,\n",
       "       41.03695243, 29.85280847, 43.97606358, 39.87406519, 53.41102423,\n",
       "       51.25670067, 17.33814758, 19.46257062, 19.78363123, 54.11545387,\n",
       "       51.50505391, 53.35706776, 21.07363233, 27.61043083, 16.65088736,\n",
       "       12.29119711, 45.49172589, 31.9252435 , 36.72486195, 45.17776275,\n",
       "       36.66860149, 43.83958542, 17.2043652 , 19.23096418, 14.08214493,\n",
       "       44.78407814, 44.76578789, 50.6735413 , 38.97644638, 23.93969133,\n",
       "       50.06511243, 49.76526362, 57.18110971, 54.06315316, 45.07970896,\n",
       "       20.33766214, 10.6698966 , 49.59462479, 37.39317644, 59.10882174,\n",
       "       50.92223498, 38.76941781, 38.93778848, 30.80028087, 54.66156549,\n",
       "       50.87710643, 32.85881579, 36.86992154, 46.21711237, 29.68531343,\n",
       "       30.21612377, 13.12119795, 46.35459016, 30.8164804 , 35.22732847,\n",
       "       28.82086136, 21.59825459, 44.09758081, 29.18625689, 56.70961129,\n",
       "       19.00734261, 51.89856462, 50.70252311, 17.78357754, 44.93898473,\n",
       "       16.24704925, 45.83929287, 35.8152383 , 43.2723167 , 11.52290753,\n",
       "       26.62775212, 37.75039305, 32.3375118 , 26.29406624, 43.06087719,\n",
       "       49.66881542, 20.46001277, 15.80843755, 58.82653558, 18.60816401,\n",
       "       12.05514376, 46.17593626, 47.62600541, 10.46489682, 21.22981511,\n",
       "       44.34315975, 54.86655272, 59.35260209, 41.40292711, 21.77945579,\n",
       "       53.50204615, 10.70755923, 55.91352657, 46.10774631, 22.697858  ,\n",
       "       35.68103098, 58.81279873, 16.33479809, 56.76957991, 34.18484712,\n",
       "       36.85946532, 22.49727712, 47.48283411, 18.31918011, 52.74780019,\n",
       "       15.02914334, 35.315074  , 21.05555309, 10.53259453, 19.19158664,\n",
       "       28.96604621, 12.90567276, 11.59457382, 17.92558525, 26.94407956,\n",
       "       47.55898578, 53.67256175, 46.37379322, 48.65029902, 40.18230888,\n",
       "       21.71006771, 29.5482887 , 53.08995732, 16.34770681, 46.64160141,\n",
       "       10.27559025, 46.8557826 , 48.38038013, 16.18123969, 56.39656665,\n",
       "       21.50898619, 58.10011871, 20.52650574, 44.58530118, 23.46126078,\n",
       "       44.02574816, 26.04356906, 53.12574077, 29.10223133, 28.41314516,\n",
       "       21.02988885, 52.33722509, 12.15394445, 18.6312321 , 26.55746551,\n",
       "       58.80301339, 11.40438175, 30.4884335 , 29.82667602, 13.08790019,\n",
       "       53.26637614, 47.84490245, 53.34321807, 59.05156531, 38.50645878,\n",
       "       27.670326  , 45.00845428, 41.97600818, 19.20935936, 30.919961  ,\n",
       "       13.23670271, 26.82370522, 22.5871333 , 28.62078126, 55.08043184,\n",
       "       19.82268742, 37.6806985 , 40.90972027, 23.05560572, 41.65755632,\n",
       "       23.77307715, 47.52429944, 20.78264465, 52.47584564, 34.74628881,\n",
       "       46.47294718, 24.16637231, 36.2635129 , 16.5777468 , 29.99189313,\n",
       "       17.73365666, 25.40347591, 25.03706253, 42.91621229, 25.3544172 ,\n",
       "       37.71878336, 29.09779518, 18.36625289, 30.14340667, 43.5089414 ,\n",
       "       50.16687412, 44.98672186, 17.09601992, 36.22630882, 36.20285052,\n",
       "       56.61459172, 37.26850426, 56.49457799, 31.52155129, 51.52211203,\n",
       "       57.22825992, 53.33718533, 17.09698593, 14.77946072, 47.59786709,\n",
       "       15.02595272, 52.63685215, 58.11433207, 58.67554519, 59.55020613,\n",
       "       21.62488685, 46.86504176, 58.36629983, 25.28577445, 45.31500124,\n",
       "       19.19279628, 22.21478453, 34.07536159, 24.98710029, 36.4978137 ,\n",
       "       37.22726006, 23.2109774 , 24.49005576, 48.07357194, 21.76231213,\n",
       "       32.81770652, 52.24134125, 23.77497876, 44.64929409, 15.88831975,\n",
       "       24.2269151 , 32.19016957, 53.05588984, 29.43358963, 21.05923623,\n",
       "       17.52209609, 42.54861491, 57.26759207, 30.27575105, 12.71974743,\n",
       "       33.96948276, 47.70895105, 41.09647889, 31.94271285, 33.75183514,\n",
       "       24.75581308, 51.34458767, 49.02899153, 56.85350841, 11.15302727,\n",
       "       37.94839751, 19.75444187, 18.6176135 , 33.03091155, 16.85911182,\n",
       "       35.57087216, 43.40818779, 14.05072951, 59.75757663, 27.63711327,\n",
       "       58.86732609, 31.67576387, 55.67263363, 48.68734463, 36.88814602,\n",
       "       56.77452945, 16.09214111, 45.84511686, 35.7871892 , 10.00078087,\n",
       "       29.23182066, 16.28682345, 24.26310098, 59.38025371, 50.67751236,\n",
       "       47.13222406, 52.86592837, 47.56149802, 35.39267554, 56.79433445,\n",
       "       51.81875333, 38.68949428, 30.91753919, 53.78744   , 13.30046715,\n",
       "       16.56025264, 23.12683762, 23.47015011, 24.24498216, 17.60128844,\n",
       "       32.01192794, 56.06631919, 36.75430922, 34.69315294, 14.92168301,\n",
       "       46.84074433, 40.06286096, 21.37086222, 12.19259534, 58.89839434,\n",
       "       14.99122549, 28.90631184, 45.00489772, 40.69257977, 59.10432861,\n",
       "       37.07538568, 31.03513462, 40.01427793, 39.1932826 , 52.07487977,\n",
       "       32.78926836, 59.86299221, 22.41173807, 44.38232264, 41.42309447,\n",
       "       35.69909916, 13.86360653, 12.07422083, 52.99995275, 43.09650669,\n",
       "       47.7772489 , 20.90337555, 31.94071878, 59.97944579, 53.01117634,\n",
       "       10.07653991, 12.50759215, 25.51210446, 41.86960666, 57.1356946 ,\n",
       "       15.33803356, 38.10734323, 43.97533744, 31.5679474 , 35.74196848,\n",
       "       59.52691053, 44.47538635, 20.56936556, 50.17331336, 19.89004004,\n",
       "       11.06285747, 14.10243763, 26.09687626, 28.82910894, 58.28517455,\n",
       "       29.91461824, 17.17047447, 18.03861253, 16.53249065, 17.53691007,\n",
       "       46.77127433, 25.03195493, 10.88282567, 32.14965097, 31.79044211,\n",
       "       34.83688937, 29.56129678, 52.22585165, 51.66158488, 18.09278425,\n",
       "       58.32507307, 20.63005892, 15.54792552, 28.30691025, 50.96959348,\n",
       "       25.86658393, 21.31664537, 42.91298085, 30.27192089, 37.59311938,\n",
       "       57.08999144, 52.48030495, 25.5904861 , 17.09196095, 31.3989334 ,\n",
       "       17.13727615, 30.83061456, 24.28032051, 50.7235564 , 39.21723838,\n",
       "       55.63566401, 12.43266256, 28.0217649 , 10.74558284, 17.63293354,\n",
       "       38.3570448 , 27.8497996 , 18.47131048, 47.57424088, 27.90932826,\n",
       "       51.12893753, 24.97466522, 40.91876146, 48.4372878 , 45.82465385,\n",
       "       13.9361907 , 20.84873538, 30.66936485, 57.345425  , 15.94750985,\n",
       "       13.65345013, 38.43127518, 23.74088639, 49.03460983, 53.77357372,\n",
       "       55.78959921, 23.45527826, 13.50421109, 47.23935707, 13.21554187,\n",
       "       41.19797764, 16.12241146, 20.24977541, 37.88346423, 19.49935999,\n",
       "       32.04750963, 33.32585799, 16.5800029 , 34.83924595, 46.20031704,\n",
       "       29.08738394, 55.01254241, 20.08486989, 57.11389204, 34.2096166 ,\n",
       "       13.44926496, 11.80617568, 38.15009839, 46.29459623, 44.43308884,\n",
       "       35.28535553, 44.01811352, 35.73153695, 16.67764177, 32.78359468,\n",
       "       12.04855836, 24.28476592, 13.90481223, 17.31214098, 17.26851563,\n",
       "       55.50533315, 10.70860446, 24.07604097, 28.6488798 , 32.26850984,\n",
       "       16.01671843, 16.98890645, 36.62441851, 21.73773392, 14.90420021,\n",
       "       34.45747319, 22.93195893, 11.85140656, 26.04023191, 53.57921359,\n",
       "       19.07215794, 15.44819983, 52.89787284, 53.20204084, 36.75844399,\n",
       "       26.6356543 , 25.02954244, 32.98236738, 43.97673262, 56.97718957,\n",
       "       55.29633473, 20.88890162, 43.60483704, 47.44774666, 27.75605309,\n",
       "       33.65782158, 37.4085024 , 30.97092632, 20.44007049, 29.32562959,\n",
       "       11.95747174, 36.81540523, 39.758032  , 35.66199077, 56.67870528,\n",
       "       14.82642444, 20.10015757, 55.06400189, 29.60934008, 37.53215528,\n",
       "       21.07920853, 37.96517248, 56.76374356, 50.34063811, 15.54149561,\n",
       "       11.80922683, 40.06626792, 25.61779334, 39.68778591, 50.64194158,\n",
       "       16.38579445, 34.87065354, 49.46710264, 46.96773053, 58.3474782 ,\n",
       "       35.4698072 , 55.52760898, 31.5127294 , 15.40148232, 16.73617765,\n",
       "       40.5485085 , 13.48670554, 25.53233284, 27.24287337, 49.94055131,\n",
       "       45.91743135, 17.02645121, 36.84318184, 57.46118116, 55.92120167,\n",
       "       38.56062653, 12.81119002, 45.39713823, 18.33107197, 35.19934929,\n",
       "       55.54700597, 29.37163315, 19.09866131, 30.0535887 , 42.57024552,\n",
       "       51.6403441 , 50.44376575, 32.6495854 , 37.72045494, 21.47002649,\n",
       "       26.3999552 , 22.85551708, 57.4137964 , 58.98342097, 47.18981751,\n",
       "       45.36801266, 11.30311185, 50.79150494, 11.37702923, 57.20279853,\n",
       "       28.45030336, 10.55037815, 21.59273082, 37.99439534, 31.43489779,\n",
       "       56.770345  , 14.59081251, 34.00365975, 55.00904152, 39.4914504 ,\n",
       "       43.75594093, 43.86704182, 22.35338135, 18.65499652, 10.57298203,\n",
       "       50.28986993, 28.97781835, 34.32050572, 34.89243348, 15.49736593,\n",
       "       20.12607874, 59.86532509, 32.98518662, 38.19353956, 21.26283257,\n",
       "       17.92370341, 13.11624983, 24.54311405, 40.63843642, 16.94335423,\n",
       "       49.4284661 , 59.31850803, 10.02522147, 34.0270999 , 15.08798916,\n",
       "       43.70609155, 42.74767721, 39.042978  , 46.82789094, 53.19988421,\n",
       "       30.87600355, 35.08753112, 20.64218222, 42.86846071, 41.83507955,\n",
       "       48.26256588, 13.23844099, 17.14369514, 52.97928918, 12.07518205,\n",
       "       36.74769166, 47.93373052, 50.47249571, 25.46013984, 18.83067951,\n",
       "       29.69250068, 50.44840262, 53.0920583 , 26.59194302, 40.47036671,\n",
       "       43.33170313, 58.57477592, 58.63888271, 14.09595911, 41.42460164,\n",
       "       24.68449605, 53.58015671, 18.29334834, 11.66244811, 48.0575975 ,\n",
       "       56.2700255 , 34.73935293, 52.75182328, 51.25435395, 52.53180177,\n",
       "       26.38694721, 34.7004972 , 44.03349258, 19.85811574, 15.68403634,\n",
       "       56.72790021, 55.35873007, 31.75299337, 31.65261796, 59.71167569,\n",
       "       23.88521454, 28.69841844, 14.61352708, 21.1421509 , 32.02201227,\n",
       "       57.64145036, 31.60330104, 37.91293894, 31.88711408, 17.17558028,\n",
       "       58.74782913, 11.97789966, 43.43335379, 29.27149269, 10.83213083,\n",
       "       34.38042975, 42.13446099, 51.79305905, 41.64655237, 28.62760416,\n",
       "       50.03071808, 10.79390563, 44.68798057, 14.82192135, 53.88644081,\n",
       "       19.56598259, 15.65879241, 55.54990375, 46.00587322, 52.42034052,\n",
       "       21.28244785, 57.53111395, 12.38917162, 15.82841085, 34.05276961,\n",
       "       23.52482667, 32.29368805, 16.18794489, 48.61829988, 32.84427793,\n",
       "       30.05859087, 21.10184471, 38.67616674, 24.96030471, 51.22825841,\n",
       "       46.05572586, 49.45973378, 26.78359895, 23.46685746, 58.17781597,\n",
       "       50.26537574, 45.43975698, 15.14229598, 39.07847901, 58.65742381,\n",
       "       57.18699069, 41.5460867 , 46.38850537, 41.69439632, 39.43750908,\n",
       "       57.885128  , 43.09939872, 20.27731996, 49.74504566, 40.45370879,\n",
       "       29.68375005, 10.06269085, 56.95785266, 13.99101052, 13.68108587,\n",
       "       56.63374657, 14.21584305, 49.91187963, 42.5547231 , 16.0554976 ,\n",
       "       56.98580746, 52.95798642, 14.01077375, 22.46215659, 40.54950677,\n",
       "       10.74201214, 22.2452415 , 26.46981219, 28.40112852, 19.62709321,\n",
       "       50.81417148, 17.41256576, 56.9934425 , 49.28780584, 40.42163722,\n",
       "       16.44556632, 52.48862341, 10.53474892, 49.52473221, 27.06536785,\n",
       "       54.80958055, 54.61601138, 28.10856032, 33.60375608, 23.15491542,\n",
       "       29.4375029 , 54.74226416, 52.74640722, 26.3091536 , 34.29740655,\n",
       "       32.53454584, 31.36872901, 18.89992603, 40.90318531, 22.45401258,\n",
       "       15.07890748, 47.46204254, 55.86838928, 17.21617847, 29.56859421,\n",
       "       22.61183674, 23.06447796, 17.71080841, 43.24812397, 31.77666148,\n",
       "       31.94562469, 44.68253722, 40.66857164, 46.02389766, 15.87078975,\n",
       "       18.24498476, 47.17813114, 11.10665353, 21.0218668 , 20.79725519,\n",
       "       58.82072809, 24.82855782, 42.02341166, 58.5067615 , 54.63504511,\n",
       "       27.72484272, 34.62171757, 50.21748567, 20.53792574, 25.7440538 ,\n",
       "       50.63119225, 17.3130435 , 59.69965231, 21.44063846, 49.84282267,\n",
       "       24.33227337, 52.43927085, 48.70781544, 49.25733694, 24.23576483,\n",
       "       35.04130233, 26.55700487, 54.51534821, 50.64834737, 33.88157277,\n",
       "       32.46017049, 28.86760187, 16.4968906 , 11.39453955, 54.40470873,\n",
       "       12.18590288, 39.69596245, 56.40004631, 44.14715931, 24.7623221 ,\n",
       "       29.39965653, 47.41302622, 10.12054842, 35.15744095, 26.65465007,\n",
       "       48.41679913, 10.6900176 , 25.88176153, 14.82625914, 28.71399308,\n",
       "       17.12286679, 44.7253288 , 57.28879316, 34.29435166, 53.07788216,\n",
       "       43.97127755, 56.2089763 , 40.73969137, 29.0637448 , 14.19949468,\n",
       "       44.91648787, 54.00247472, 44.51018292, 56.41243853, 49.247299  ,\n",
       "       44.74482495, 50.20138193, 27.56946875, 39.10866296, 44.40328278,\n",
       "       26.68638967, 17.71477256, 45.27611284, 19.08904718, 32.55535969,\n",
       "       24.25704157, 31.38996887, 21.31186901, 59.96824051, 54.52610532,\n",
       "       32.3994773 , 37.81737846, 14.40034839, 43.48659898, 10.69653799,\n",
       "       27.25400375, 51.37275498, 49.6940546 , 35.397256  , 35.32209442,\n",
       "       29.80800807, 53.24662518, 36.62416825, 22.89513528, 18.11055798,\n",
       "       49.11346252, 41.47365846, 16.9226153 , 32.62212844, 16.08936588,\n",
       "       39.15736083, 33.20413056, 58.0601432 , 55.89228616, 45.84913648,\n",
       "       28.89129875, 33.06790627, 28.23739254, 28.26512189, 48.11326846,\n",
       "       49.67831942, 54.49053832, 35.1958063 , 36.72813683, 12.34783951,\n",
       "       21.78454835, 13.48536359, 48.54541841, 38.50241634, 34.95710292,\n",
       "       30.96341409, 36.18662046, 53.18398878, 49.28474657, 35.10027812,\n",
       "       30.76351813, 17.99991608, 27.05211121, 52.7196103 , 35.48241638,\n",
       "       56.81550776, 14.96752505, 52.63842808, 23.36598371, 25.7682067 ,\n",
       "       31.7093926 , 58.52187626, 25.91641845, 41.80063557, 56.436328  ,\n",
       "       28.80998414, 27.33711099, 55.15402625, 45.58554497, 41.30830029,\n",
       "       21.26930933, 44.3798497 , 31.53203196, 46.88112807, 25.20394488,\n",
       "       35.04678068, 13.33057056, 13.44602991, 42.24255314, 32.31995779])"
      ]
     },
     "execution_count": 11,
     "metadata": {},
     "output_type": "execute_result"
    }
   ],
   "source": [
    "uniform_dist(10, 60, 1000)\n"
   ]
  },
  {
   "cell_type": "code",
   "execution_count": 13,
   "metadata": {},
   "outputs": [
    {
     "data": {
      "text/plain": [
       "(array([ 97., 120., 105.,  88., 114.,  95.,  92., 102.,  98.,  89.]),\n",
       " array([10.07969713, 15.06210424, 20.04451135, 25.02691847, 30.00932558,\n",
       "        34.99173269, 39.9741398 , 44.95654692, 49.93895403, 54.92136114,\n",
       "        59.90376826]),\n",
       " <a list of 10 Patch objects>)"
      ]
     },
     "execution_count": 13,
     "metadata": {},
     "output_type": "execute_result"
    },
    {
     "data": {
      "image/png": "[encoded data removed]",
      "text/plain": [
       "<Figure size 432x288 with 1 Axes>"
      ]
     },
     "metadata": {
      "needs_background": "light"
     },
     "output_type": "display_data"
    }
   ],
   "source": [
    "import matplotlib.pyplot as plt\n",
    "\n",
    "plt.hist(uniform_dist(10, 60, 1000))\n"
   ]
  },
  {
   "cell_type": "markdown",
   "metadata": {},
   "source": [
    "How are the two distributions different?"
   ]
  },
  {
   "cell_type": "code",
   "execution_count": null,
   "metadata": {},
   "outputs": [],
   "source": [
    "# your answer here:\n",
    "\n",
    "'''\n",
    "The graph with 1,000 data points shows a more equal probability of each occurrence as we would expect with a \n",
    "uniform distribution - as the closer it gets to infinite, the more it will reach the expected value.\n",
    "\n",
    "The range of results is also smaller\n",
    "\n",
    "'''"
   ]
  },
  {
   "cell_type": "markdown",
   "metadata": {},
   "source": [
    "## Normal Distribution\n",
    "\n",
    "1. In the same way in the Uniform Distribution challenge, write a function that generates normally distributed random numbers.\n",
    "1. Generate 1,000 normally distributed numbers with the average of 10 and standard deviation of 1\n",
    "1. Generate 1,000 normally distributed numbers with the average of 10 and standard deviation of 50\n",
    "2. Plot the distributions of the data generated.\n",
    "\n",
    "Expected output:\n",
    "\n",
    "![normal distribution](nd.png)"
   ]
  },
  {
   "cell_type": "code",
   "execution_count": 15,
   "metadata": {},
   "outputs": [],
   "source": [
    "# your code here\n",
    "\n",
    "normal_1000 = np.random.normal(loc=10, scale=1, size=1000)\n",
    "second = np.random.normal(loc=10, scale=50, size=1000)\n"
   ]
  },
  {
   "cell_type": "code",
   "execution_count": 16,
   "metadata": {},
   "outputs": [],
   "source": [
    "#define the function\n",
    "\n",
    "def normal_dist(x, y, z):\n",
    "    normal_1000 = np.random.normal(loc=x, scale=y, size=z)\n",
    "    return normal_1000"
   ]
  },
  {
   "cell_type": "code",
   "execution_count": 17,
   "metadata": {},
   "outputs": [
    {
     "data": {
      "text/plain": [
       "array([11.1263227 ,  9.70448005, 10.55865933, 11.41334963,  9.87066492,\n",
       "        9.10769121,  8.5863217 , 10.43322166,  9.56361601,  9.97993431,\n",
       "       11.67227595,  9.30239738, 10.20794381, 10.00350982,  9.24722752,\n",
       "       10.48810391,  8.38137947, 10.57381314, 10.12371442,  9.15511039,\n",
       "       10.92854923, 10.33499712, 10.35091879,  9.53757481, 10.22235141,\n",
       "        9.42362622, 10.89455751, 11.04904085,  9.71252441, 10.33972797,\n",
       "       10.60239712,  8.9509469 ,  9.17962302, 11.00653729, 10.37968381,\n",
       "       11.01226048, 10.9625552 ,  9.73172894, 11.28138547, 11.16349685,\n",
       "       10.16088475, 10.4095797 , 11.26183568, 10.47983294, 10.16970824,\n",
       "        8.25635616, 11.02912054, 10.28655022,  9.96115362,  8.64109186,\n",
       "       10.57392604,  9.14759561,  9.19161153, 10.86157065, 10.78951297,\n",
       "       10.23927711,  9.43457784,  8.0205378 , 11.80204573, 10.45075363,\n",
       "        9.90959008,  8.91038466, 10.24147093,  9.20249334, 11.34644933,\n",
       "        9.28473734,  9.09501388, 11.31815408, 10.4831615 ,  9.19727087,\n",
       "        9.00673204,  9.35409139,  8.26326011,  9.89456386,  9.87630511,\n",
       "        9.75556217,  8.98214266,  8.15312404,  9.36535784,  8.75954862,\n",
       "        8.4990851 , 10.4704234 , 10.69761087,  8.91893041,  9.11346564,\n",
       "        8.63232118,  9.86761379, 10.15621162, 10.89865266,  8.31269898,\n",
       "        8.60648379, 10.54950135, 10.76805982, 11.9610792 , 10.23670012,\n",
       "       10.1517452 , 10.39305035,  8.69965249, 12.10586834, 10.38018905,\n",
       "       10.43644477,  9.30455928, 10.23043845,  8.91503507,  8.43280822,\n",
       "        8.27584381,  9.50888971,  9.85907303,  8.41195812,  9.24468616,\n",
       "        9.46365447,  9.72837475, 10.81058519,  9.5816766 , 11.97803195,\n",
       "       10.02645293,  9.69756033,  9.20342205, 10.24314895,  7.41644746,\n",
       "        9.40361886,  9.4443276 ,  9.842825  , 10.46713465, 10.64896176,\n",
       "       11.52996612, 11.09864123,  8.14359423, 10.45157006,  9.54347846,\n",
       "        9.03503794, 10.3673047 , 10.6037705 ,  8.97785712,  8.70067837,\n",
       "        9.1444573 ,  9.27646389,  8.41298647, 11.34106776,  9.11875687,\n",
       "       11.96094731, 10.80281133, 10.458466  , 10.95798483, 10.62628002,\n",
       "       11.67073648,  9.61044843, 10.67281534,  8.83529212,  9.973644  ,\n",
       "        9.32160226,  9.87609956, 10.73272646, 11.30075213,  9.82648075,\n",
       "        9.95211475,  9.91153861,  9.66081356,  8.73937384,  9.68404827,\n",
       "        8.26825464,  8.12664206, 10.68279487, 11.11941208, 11.29460323,\n",
       "        9.31809479, 11.21336638, 11.29050988, 10.59666724, 10.37097112,\n",
       "       10.33820076, 10.16492509,  8.28747249,  8.54859285, 11.34088021,\n",
       "       10.37935641,  9.84417315, 10.47750793, 10.52441493, 10.72243188,\n",
       "        9.97134717,  9.90997418,  8.98762895,  9.10131417,  8.39272701,\n",
       "       10.61538855, 10.03587242,  9.89026803,  8.94842127,  9.20316789,\n",
       "       10.88798267, 12.10356657, 10.7206981 , 12.10731807,  8.19186387,\n",
       "        9.71627597, 10.08041475,  9.93056645, 10.38545386, 11.26268473,\n",
       "       10.49771212,  9.58772882,  9.36438005,  9.60943574, 10.99188219,\n",
       "        8.85438271,  9.79221285,  8.8280483 ,  9.49303051, 12.1032021 ,\n",
       "        9.321894  , 10.14480063, 11.6243671 , 10.13577691, 11.71891966,\n",
       "       11.02197832, 10.21543989, 10.27425988,  9.34668598,  9.36451979,\n",
       "        9.25532971, 10.87337916,  9.51414021,  8.70551466,  9.64226039,\n",
       "       10.01773808,  9.97459448,  8.50509304, 10.57542119,  9.90219313,\n",
       "       12.03601975,  9.34025683,  8.97004769,  9.76521145,  9.64413287,\n",
       "        8.90330618,  9.75015236, 10.12619458,  8.51321961, 11.35524997,\n",
       "       10.88852941, 10.58673883, 11.08594202,  9.97205327, 12.65175334,\n",
       "       10.68957289, 10.80536262, 10.91117445,  7.14109182,  9.03574946,\n",
       "       11.22253871,  9.9038096 , 10.7549856 , 11.44898568, 10.04960072,\n",
       "        8.31766969,  9.1476328 , 10.17277319,  8.85345997,  7.74457247,\n",
       "       10.32944623,  8.78944906, 10.21658341,  9.32976834, 10.37432018,\n",
       "       10.19735613,  9.532471  ,  9.77450339, 10.0341315 ,  7.69540735,\n",
       "        9.78438042,  9.43721315,  8.33197169, 11.63801458, 10.26881378,\n",
       "       11.99017077,  8.63935958,  9.7684083 , 11.56690025,  8.83462587,\n",
       "        8.65231211,  8.7412136 ,  9.71472034, 10.4480628 , 11.21128786,\n",
       "       10.62591694,  8.87968297,  8.21048465,  9.12092169, 10.87343122,\n",
       "        9.14790929, 11.81526076, 10.39702783, 10.80818081,  9.12465744,\n",
       "       10.11655961, 10.47139697,  9.39070675, 10.67504232, 11.29590152,\n",
       "       10.99674133, 10.74874265,  8.90685257,  9.97285889, 10.71649343,\n",
       "       12.55889599,  9.73490262,  9.81002534,  9.59351319, 10.83194833,\n",
       "       10.57374637,  9.2299668 ,  8.96236341,  9.88656545, 10.97523498,\n",
       "       11.03881982, 11.13846619, 10.87623638, 11.26846591,  8.90008418,\n",
       "        9.38419559, 12.57415326,  9.73352449,  9.45546786,  9.84695655,\n",
       "        8.79098027,  9.1146124 ,  9.33274069,  9.95777907,  9.08985319,\n",
       "       10.33121501,  9.22627517,  9.66931864,  8.7550469 ,  9.80194167,\n",
       "       10.58660962, 10.01133677,  9.27595943, 10.32221454,  9.20182103,\n",
       "        9.06886602, 11.51203283, 10.54424864,  9.10421594,  9.73581992,\n",
       "       12.11210301,  9.29535   , 10.39423112,  9.53130337, 10.96012223,\n",
       "        8.63606127, 11.8867393 , 10.58136386,  9.08432513,  9.77954498,\n",
       "       10.7481294 , 11.15985373,  8.87742093,  8.79716638, 10.05270809,\n",
       "        8.99588239, 10.06566394, 11.19125892,  8.21148904, 10.37882115,\n",
       "        7.6217191 , 10.76902191,  8.76575442,  8.84632344, 11.22795632,\n",
       "        9.59935569, 10.01460959,  9.7503264 , 10.82728961,  9.00912637,\n",
       "        9.31461109, 10.825147  , 11.6081433 , 10.52502329,  9.51696471,\n",
       "        9.73506699, 10.29697529, 11.63170166,  9.25148066, 10.81868636,\n",
       "        9.93533379, 10.0261261 ,  8.3130511 , 11.05249017,  9.26622575,\n",
       "        9.03742698, 10.55138374, 10.92417091, 11.15792719, 10.51240985,\n",
       "        9.33493416, 10.96355816,  9.56894939, 10.01694534, 10.500107  ,\n",
       "       11.25454329, 11.29350763,  9.85356655,  9.1101099 ,  9.83108032,\n",
       "       10.58318976, 10.36102113,  8.55798057,  8.92671124, 10.22014371,\n",
       "       10.49113364,  9.4750052 ,  8.0644803 , 10.40674768,  9.99722386,\n",
       "        8.96154668,  9.56767225,  9.62459856,  9.09540003,  9.07918413,\n",
       "       10.31426755,  9.47270655, 10.64142123, 10.21765738,  9.66770427,\n",
       "        8.49418163, 10.64115837,  8.72214207, 10.42526879, 11.13195092,\n",
       "        9.45679237,  7.87461763, 11.13289643,  9.92228694,  8.11768718,\n",
       "       10.04044174,  9.89352599,  7.34899999, 11.10439876,  7.89693246,\n",
       "        9.09739823, 10.3749088 , 10.77399821,  8.23061694,  8.81199593,\n",
       "       11.313447  ,  9.63674095,  9.12950489,  8.81797159, 10.3511683 ,\n",
       "       10.70805089,  9.35346407, 10.64869416,  9.71056852, 10.41130278,\n",
       "        9.39404525, 10.21116261,  9.77467866,  9.27098608,  8.63688125,\n",
       "        9.67381257, 10.73901016, 10.1675897 , 10.53064743,  8.16472072,\n",
       "       10.56157812,  9.95672824, 10.87873029, 10.0604577 , 10.13085118,\n",
       "       11.0899039 ,  8.88319259, 11.25993703,  9.3387603 , 10.64423309,\n",
       "       10.12969637, 10.16797526, 10.88864314, 10.72479559, 10.57978765,\n",
       "        8.54036547, 11.23213252,  9.13309179, 11.10034286,  9.91870678,\n",
       "       11.36470302, 11.15893445, 10.33517768, 10.62055907,  8.58922891,\n",
       "       10.99827189,  8.58971518, 10.97947522, 11.56872493, 12.34125906,\n",
       "       10.23201257, 10.17232154, 12.42631111,  9.35565504,  9.21385563,\n",
       "        9.96382481, 11.4711246 ,  8.28825844, 10.94422395, 11.88033899,\n",
       "       10.06402281, 11.05048031, 10.90180593,  9.69701497,  9.84163244,\n",
       "        8.9819687 , 11.28950272,  9.11662625,  8.98895518,  9.85250999,\n",
       "       11.00318822, 11.89530998, 11.09466966,  8.01391963, 10.91225592,\n",
       "       11.31454173, 11.35008217, 10.55446823, 10.69536304,  9.24474174,\n",
       "       10.08030933, 10.04556532, 11.12643206, 10.1303143 ,  8.37513413,\n",
       "       10.31229837, 10.80031649, 12.05186304,  9.10363129, 11.49800107,\n",
       "       10.51586876, 10.92291456, 10.20327707, 10.68249222,  7.93365347,\n",
       "       10.51338564,  8.97948919,  8.95881056, 10.08753062,  7.27724492,\n",
       "        9.93405141,  8.84619734,  8.41312416, 10.4437783 , 11.30490347,\n",
       "        9.52643442, 10.83474617, 11.56989433, 11.50064861,  9.22737858,\n",
       "       11.13187125,  9.44551824,  9.92377699, 10.60668217,  9.76738187,\n",
       "       10.77360763,  7.87444363,  9.35275616, 10.21551651,  9.14632628,\n",
       "        9.2847283 , 10.36816705,  9.27941939, 11.55264997, 11.54366499,\n",
       "        9.6528654 , 11.21323256,  8.62235479,  9.41090463, 10.40035917,\n",
       "       10.17235781,  9.17416576,  8.60359777,  9.0225421 ,  8.75361331,\n",
       "        9.19661825, 11.26353372, 10.17723657,  9.4581538 ,  8.58955515,\n",
       "        9.14383867,  8.70362993,  8.83867998,  9.62051299,  8.02333859,\n",
       "       10.17659672,  9.99073202,  9.51473365,  9.17654264, 10.40838839,\n",
       "       10.32056417, 10.74814273, 11.58542998, 10.97499768, 10.86820958,\n",
       "        8.97760305,  8.55761611, 11.17208059,  9.15381608, 10.57735144,\n",
       "        8.99026761, 11.00083621, 10.43463162,  8.7202713 ,  9.50737963,\n",
       "       11.54386795,  8.58645303,  9.63359762, 10.2606923 ,  8.46753226,\n",
       "        9.49770698,  9.0832966 ,  9.68974505, 10.41957998, 10.93342468,\n",
       "        9.79472279, 10.25135368,  8.12290628, 11.59243227, 10.31614413,\n",
       "        8.73317145, 10.04713338,  9.1493658 ,  8.85720696,  9.08828851,\n",
       "       10.58125376, 10.87800898, 11.44599393, 10.61626537, 11.95242448,\n",
       "       11.63439063,  8.62085834,  9.78022475,  9.94282923, 10.38476743,\n",
       "        9.23788109,  9.56606816,  9.93460955, 10.48138772, 11.71064174,\n",
       "        9.09669003, 11.0862131 ,  9.30018879, 10.67104191, 10.53552358,\n",
       "        9.82056342,  9.8723484 ,  9.65351237,  9.78599806,  9.55223889,\n",
       "       10.21097379, 10.17573439, 11.19798555, 10.77230919,  9.52125349,\n",
       "        9.41312187,  7.44432403, 11.21662863, 10.06062291, 10.1824627 ,\n",
       "       10.1745369 , 10.19889479, 10.13102499, 11.96491166, 11.25699396,\n",
       "        9.54599053,  9.48153777,  9.63278308, 10.60562245,  9.92304147,\n",
       "        8.85279024, 11.04855039, 10.14796149,  9.59340255,  9.7999065 ,\n",
       "       10.67884492, 10.82255391,  9.92389943, 11.25108845, 11.73674934,\n",
       "        9.37833378, 10.95485069,  9.79971807, 10.41317105, 10.22637666,\n",
       "       11.79016349, 10.39829071,  9.19308164,  9.97548741, 11.13144978,\n",
       "        9.25868214, 10.09750185, 10.08463758, 11.11397351, 12.31898183,\n",
       "        9.74134923,  9.68285108,  9.68633494,  9.77921663,  9.27799556,\n",
       "        9.16569495,  8.71003597, 10.45161864, 11.93275548,  8.52340156,\n",
       "        9.61170722, 10.35708969, 10.79255956,  9.74978461,  9.46535424,\n",
       "       11.18454269, 10.89805659,  8.88977625,  9.83833028, 10.21348238,\n",
       "        8.37831891,  9.50420428, 10.28639614, 11.7065875 ,  9.4980256 ,\n",
       "        9.93652917, 11.89787   , 10.14258451, 10.29516362, 10.45946136,\n",
       "        9.63374559,  9.99590525,  8.22763211, 10.15307532, 11.19585854,\n",
       "        9.8242681 , 10.11090495, 10.05225198,  7.32733888,  9.09079467,\n",
       "        9.50527435, 10.10224243, 11.28254271, 10.14717659, 10.24669674,\n",
       "        9.18226921,  8.36412711,  9.77532679, 10.43381158, 10.1472832 ,\n",
       "        9.38439627, 10.34716958, 10.29196398,  9.23780865, 11.07350426,\n",
       "        9.019607  ,  9.45274611,  9.2953938 ,  9.50837279, 11.59215973,\n",
       "       10.13199329,  9.19728496,  9.66986539,  9.29902093,  8.98456251,\n",
       "       10.07077198, 11.2560961 , 10.19028917, 11.24895451,  9.57186543,\n",
       "       10.04061126, 10.54987603, 12.02942296, 10.64536824,  9.19403655,\n",
       "       11.66725971, 11.74042282,  9.78763034, 10.61364843, 11.08069839,\n",
       "        9.17487098, 10.33452849, 10.86885094, 10.94653836,  9.15462238,\n",
       "        9.97492993,  8.54990197, 10.99951579, 11.4487245 ,  8.7482029 ,\n",
       "        9.83635455, 10.52603748, 10.69296153,  9.46359996,  9.81722402,\n",
       "       10.37003432, 11.06883987, 10.37491391,  9.73704955, 10.67787913,\n",
       "        7.62168201, 10.61256127, 10.29390014,  9.39095124,  8.94014614,\n",
       "        9.1890582 ,  9.57739115, 10.6715406 , 10.88621239, 10.38921911,\n",
       "        9.96438064, 11.39928128, 11.05169397, 11.81848227,  9.5367415 ,\n",
       "       10.07433212,  9.3256976 , 11.19807992,  8.55359562,  8.18426727,\n",
       "        9.2466014 ,  9.48759196, 10.61843734,  9.69582225, 10.45416715,\n",
       "       10.09744854,  9.49651823, 10.59233116, 10.47120942,  8.30570892,\n",
       "       11.66254411, 11.26335861, 11.13785125,  9.61596206,  9.65434371,\n",
       "       10.7999281 ,  8.27005259,  8.89792834,  9.93568322, 10.11303938,\n",
       "       10.42674584,  9.35402714, 10.73389166, 10.44185432, 10.6400664 ,\n",
       "        7.22182068, 10.28931886,  7.8592687 , 11.54202181,  9.53656161,\n",
       "        8.2324662 , 10.13858806, 11.08631004, 10.33075971, 10.51565916,\n",
       "        9.56571112,  8.30640695, 10.74006204, 10.39996086, 11.22009269,\n",
       "        8.65122324,  8.665662  , 10.56130432, 11.52862048,  9.51043721,\n",
       "        9.67198112, 12.19766433,  8.81007381, 10.26400534, 10.24735692,\n",
       "        8.54824183,  9.76331306, 11.95286953,  9.5633697 ,  9.03218816,\n",
       "       10.68589687, 10.14715556,  9.91834553,  9.43579593,  9.62910484,\n",
       "       10.742127  , 11.33799614, 10.32450258, 11.41603183,  8.2949094 ,\n",
       "        9.45018924,  8.8421796 , 11.52567563,  9.13443633,  8.48692265,\n",
       "       10.22830111, 10.17563724,  9.07691356,  8.96534164,  9.43253588,\n",
       "       10.27066941,  8.99417743, 11.3449095 ,  9.45392691,  9.04050539,\n",
       "       10.14788186,  9.80791876, 11.39875925, 10.07654348, 11.61065582,\n",
       "       10.86899678, 10.04263356,  9.8757763 , 11.2453891 ,  8.70614191,\n",
       "        8.69354823, 10.32507963,  9.93993723, 10.40949056,  9.97389674,\n",
       "        9.00171099,  9.13809638,  9.74240565, 10.12227747,  9.77002518,\n",
       "       11.44436044,  9.23297448, 10.18876129, 10.9054101 , 10.16765705,\n",
       "       10.92714149, 11.67212514, 11.03614975, 10.84986116, 10.73839049,\n",
       "       10.39920115, 10.60776735,  7.9003916 ,  9.36758421,  7.70564658,\n",
       "        9.69265832,  8.60338574,  9.46595622,  8.68155773,  9.68466471,\n",
       "       11.3213038 ,  9.68365031, 11.14004459,  9.88890808,  8.38280074,\n",
       "        9.74598118, 10.87381483, 10.74815972, 10.22775808,  9.8724421 ,\n",
       "       10.17449449, 10.82107465, 11.80637337,  8.73730263, 12.71350532,\n",
       "        9.51669125, 10.97978965, 11.08114579, 11.58556885, 11.31956968,\n",
       "       10.05791203, 11.05897227,  9.1485492 , 10.57953231,  9.11536506,\n",
       "       10.7552495 , 11.04524871, 10.33770278,  9.12064555, 10.53298746,\n",
       "       10.27135595,  9.26334441,  9.93311821, 10.70091775,  9.96120521,\n",
       "       11.33076522, 10.12045816,  9.08780402, 12.01356067, 10.27933294,\n",
       "        9.31760764, 11.16421953,  9.99629356,  9.75542758,  9.22236103,\n",
       "       10.9266094 , 10.91390325, 10.22452132,  7.30830725,  9.49565861,\n",
       "       11.25948724, 10.04637829,  9.82560635, 10.83061699, 11.53442314,\n",
       "        9.17755066, 10.66535738,  9.94022901, 10.25779549,  9.22435888])"
      ]
     },
     "execution_count": 17,
     "metadata": {},
     "output_type": "execute_result"
    }
   ],
   "source": [
    "\n",
    "\n",
    "normal_dist(10, 1, 1000)"
   ]
  },
  {
   "cell_type": "code",
   "execution_count": 19,
   "metadata": {},
   "outputs": [
    {
     "data": {
      "text/plain": [
       "(array([  7.,  13.,  94., 191., 248., 237., 154.,  47.,   7.,   2.]),\n",
       " array([ 6.80751026,  7.48196132,  8.15641239,  8.83086346,  9.50531453,\n",
       "        10.17976559, 10.85421666, 11.52866773, 12.20311879, 12.87756986,\n",
       "        13.55202093]),\n",
       " <a list of 10 Patch objects>)"
      ]
     },
     "execution_count": 19,
     "metadata": {},
     "output_type": "execute_result"
    },
    {
     "data": {
      "image/png": "[encoded data removed]",
      "text/plain": [
       "<Figure size 432x288 with 1 Axes>"
      ]
     },
     "metadata": {
      "needs_background": "light"
     },
     "output_type": "display_data"
    }
   ],
   "source": [
    "#plot the graph \n",
    "\n",
    "\n",
    "plt.hist(normal_dist(10, 1, 1000))"
   ]
  },
  {
   "cell_type": "code",
   "execution_count": 20,
   "metadata": {},
   "outputs": [
    {
     "data": {
      "text/plain": [
       "(array([  6.,  15.,  74., 183., 257., 246., 150.,  50.,  14.,   5.]),\n",
       " array([-154.9190648 , -120.65746638,  -86.39586796,  -52.13426954,\n",
       "         -17.87267113,   16.38892729,   50.65052571,   84.91212413,\n",
       "         119.17372255,  153.43532097,  187.69691939]),\n",
       " <a list of 10 Patch objects>)"
      ]
     },
     "execution_count": 20,
     "metadata": {},
     "output_type": "execute_result"
    },
    {
     "data": {
      "image/png": "[encoded data removed]",
      "text/plain": [
       "<Figure size 432x288 with 1 Axes>"
      ]
     },
     "metadata": {
      "needs_background": "light"
     },
     "output_type": "display_data"
    }
   ],
   "source": [
    "#plot the graph \n",
    "\n",
    "\n",
    "plt.hist(normal_dist(10, 50, 1000))"
   ]
  },
  {
   "cell_type": "code",
   "execution_count": 22,
   "metadata": {},
   "outputs": [
    {
     "data": {
      "text/plain": [
       "<matplotlib.axes._subplots.AxesSubplot at 0x27be82cb580>"
      ]
     },
     "execution_count": 22,
     "metadata": {},
     "output_type": "execute_result"
    },
    {
     "data": {
      "image/png": "[encoded data removed]",
      "text/plain": [
       "<Figure size 432x288 with 1 Axes>"
      ]
     },
     "metadata": {
      "needs_background": "light"
     },
     "output_type": "display_data"
    }
   ],
   "source": [
    "import numpy as np\n",
    "import seaborn as sns\n",
    "import pandas as pd\n",
    "from scipy.stats import norm \n",
    "\n",
    "sns.distplot(normal_dist(10, 50, 1000), kde=False)"
   ]
  },
  {
   "cell_type": "markdown",
   "metadata": {},
   "source": [
    "How are the two distributions different?"
   ]
  },
  {
   "cell_type": "code",
   "execution_count": null,
   "metadata": {},
   "outputs": [],
   "source": [
    "# your answer here:\n",
    "'''\n",
    "The second graph has a much higher standard deviation(1 V 10) so the range is much larger, spreading the results out further.\n",
    "\n",
    "\n",
    "\n",
    "'''"
   ]
  },
  {
   "cell_type": "markdown",
   "metadata": {},
   "source": [
    "## Normal Distribution of Real Data\n",
    "\n",
    "In this challenge we are going to take a look the real data. We will use vehicles.csv file for this exercise"
   ]
  },
  {
   "cell_type": "markdown",
   "metadata": {},
   "source": [
    "First import vehicles.csv.\n",
    "Then plot the histograms for the following variables:\n",
    "\n",
    "1. Fuel Barrels/Year"
   ]
  },
  {
   "cell_type": "code",
   "execution_count": 24,
   "metadata": {},
   "outputs": [
    {
     "data": {
      "text/html": [
       "<div>\n",
       "<style scoped>\n",
       "    .dataframe tbody tr th:only-of-type {\n",
       "        vertical-align: middle;\n",
       "    }\n",
       "\n",
       "    .dataframe tbody tr th {\n",
       "        vertical-align: top;\n",
       "    }\n",
       "\n",
       "    .dataframe thead th {\n",
       "        text-align: right;\n",
       "    }\n",
       "</style>\n",
       "<table border=\"1\" class=\"dataframe\">\n",
       "  <thead>\n",
       "    <tr style=\"text-align: right;\">\n",
       "      <th></th>\n",
       "      <th>Make</th>\n",
       "      <th>Model</th>\n",
       "      <th>Year</th>\n",
       "      <th>Engine Displacement</th>\n",
       "      <th>Cylinders</th>\n",
       "      <th>Transmission</th>\n",
       "      <th>Drivetrain</th>\n",
       "      <th>Vehicle Class</th>\n",
       "      <th>Fuel Type</th>\n",
       "      <th>Fuel Barrels/Year</th>\n",
       "      <th>City MPG</th>\n",
       "      <th>Highway MPG</th>\n",
       "      <th>Combined MPG</th>\n",
       "      <th>CO2 Emission Grams/Mile</th>\n",
       "      <th>Fuel Cost/Year</th>\n",
       "    </tr>\n",
       "  </thead>\n",
       "  <tbody>\n",
       "    <tr>\n",
       "      <th>0</th>\n",
       "      <td>AM General</td>\n",
       "      <td>DJ Po Vehicle 2WD</td>\n",
       "      <td>1984</td>\n",
       "      <td>2.5</td>\n",
       "      <td>4.0</td>\n",
       "      <td>Automatic 3-spd</td>\n",
       "      <td>2-Wheel Drive</td>\n",
       "      <td>Special Purpose Vehicle 2WD</td>\n",
       "      <td>Regular</td>\n",
       "      <td>19.388824</td>\n",
       "      <td>18</td>\n",
       "      <td>17</td>\n",
       "      <td>17</td>\n",
       "      <td>522.764706</td>\n",
       "      <td>1950</td>\n",
       "    </tr>\n",
       "    <tr>\n",
       "      <th>1</th>\n",
       "      <td>AM General</td>\n",
       "      <td>FJ8c Post Office</td>\n",
       "      <td>1984</td>\n",
       "      <td>4.2</td>\n",
       "      <td>6.0</td>\n",
       "      <td>Automatic 3-spd</td>\n",
       "      <td>2-Wheel Drive</td>\n",
       "      <td>Special Purpose Vehicle 2WD</td>\n",
       "      <td>Regular</td>\n",
       "      <td>25.354615</td>\n",
       "      <td>13</td>\n",
       "      <td>13</td>\n",
       "      <td>13</td>\n",
       "      <td>683.615385</td>\n",
       "      <td>2550</td>\n",
       "    </tr>\n",
       "    <tr>\n",
       "      <th>2</th>\n",
       "      <td>AM General</td>\n",
       "      <td>Post Office DJ5 2WD</td>\n",
       "      <td>1985</td>\n",
       "      <td>2.5</td>\n",
       "      <td>4.0</td>\n",
       "      <td>Automatic 3-spd</td>\n",
       "      <td>Rear-Wheel Drive</td>\n",
       "      <td>Special Purpose Vehicle 2WD</td>\n",
       "      <td>Regular</td>\n",
       "      <td>20.600625</td>\n",
       "      <td>16</td>\n",
       "      <td>17</td>\n",
       "      <td>16</td>\n",
       "      <td>555.437500</td>\n",
       "      <td>2100</td>\n",
       "    </tr>\n",
       "    <tr>\n",
       "      <th>3</th>\n",
       "      <td>AM General</td>\n",
       "      <td>Post Office DJ8 2WD</td>\n",
       "      <td>1985</td>\n",
       "      <td>4.2</td>\n",
       "      <td>6.0</td>\n",
       "      <td>Automatic 3-spd</td>\n",
       "      <td>Rear-Wheel Drive</td>\n",
       "      <td>Special Purpose Vehicle 2WD</td>\n",
       "      <td>Regular</td>\n",
       "      <td>25.354615</td>\n",
       "      <td>13</td>\n",
       "      <td>13</td>\n",
       "      <td>13</td>\n",
       "      <td>683.615385</td>\n",
       "      <td>2550</td>\n",
       "    </tr>\n",
       "    <tr>\n",
       "      <th>4</th>\n",
       "      <td>ASC Incorporated</td>\n",
       "      <td>GNX</td>\n",
       "      <td>1987</td>\n",
       "      <td>3.8</td>\n",
       "      <td>6.0</td>\n",
       "      <td>Automatic 4-spd</td>\n",
       "      <td>Rear-Wheel Drive</td>\n",
       "      <td>Midsize Cars</td>\n",
       "      <td>Premium</td>\n",
       "      <td>20.600625</td>\n",
       "      <td>14</td>\n",
       "      <td>21</td>\n",
       "      <td>16</td>\n",
       "      <td>555.437500</td>\n",
       "      <td>2550</td>\n",
       "    </tr>\n",
       "    <tr>\n",
       "      <th>...</th>\n",
       "      <td>...</td>\n",
       "      <td>...</td>\n",
       "      <td>...</td>\n",
       "      <td>...</td>\n",
       "      <td>...</td>\n",
       "      <td>...</td>\n",
       "      <td>...</td>\n",
       "      <td>...</td>\n",
       "      <td>...</td>\n",
       "      <td>...</td>\n",
       "      <td>...</td>\n",
       "      <td>...</td>\n",
       "      <td>...</td>\n",
       "      <td>...</td>\n",
       "      <td>...</td>\n",
       "    </tr>\n",
       "    <tr>\n",
       "      <th>35947</th>\n",
       "      <td>smart</td>\n",
       "      <td>fortwo coupe</td>\n",
       "      <td>2013</td>\n",
       "      <td>1.0</td>\n",
       "      <td>3.0</td>\n",
       "      <td>Auto(AM5)</td>\n",
       "      <td>Rear-Wheel Drive</td>\n",
       "      <td>Two Seaters</td>\n",
       "      <td>Premium</td>\n",
       "      <td>9.155833</td>\n",
       "      <td>34</td>\n",
       "      <td>38</td>\n",
       "      <td>36</td>\n",
       "      <td>244.000000</td>\n",
       "      <td>1100</td>\n",
       "    </tr>\n",
       "    <tr>\n",
       "      <th>35948</th>\n",
       "      <td>smart</td>\n",
       "      <td>fortwo coupe</td>\n",
       "      <td>2014</td>\n",
       "      <td>1.0</td>\n",
       "      <td>3.0</td>\n",
       "      <td>Auto(AM5)</td>\n",
       "      <td>Rear-Wheel Drive</td>\n",
       "      <td>Two Seaters</td>\n",
       "      <td>Premium</td>\n",
       "      <td>9.155833</td>\n",
       "      <td>34</td>\n",
       "      <td>38</td>\n",
       "      <td>36</td>\n",
       "      <td>243.000000</td>\n",
       "      <td>1100</td>\n",
       "    </tr>\n",
       "    <tr>\n",
       "      <th>35949</th>\n",
       "      <td>smart</td>\n",
       "      <td>fortwo coupe</td>\n",
       "      <td>2015</td>\n",
       "      <td>1.0</td>\n",
       "      <td>3.0</td>\n",
       "      <td>Auto(AM5)</td>\n",
       "      <td>Rear-Wheel Drive</td>\n",
       "      <td>Two Seaters</td>\n",
       "      <td>Premium</td>\n",
       "      <td>9.155833</td>\n",
       "      <td>34</td>\n",
       "      <td>38</td>\n",
       "      <td>36</td>\n",
       "      <td>244.000000</td>\n",
       "      <td>1100</td>\n",
       "    </tr>\n",
       "    <tr>\n",
       "      <th>35950</th>\n",
       "      <td>smart</td>\n",
       "      <td>fortwo coupe</td>\n",
       "      <td>2016</td>\n",
       "      <td>0.9</td>\n",
       "      <td>3.0</td>\n",
       "      <td>Auto(AM6)</td>\n",
       "      <td>Rear-Wheel Drive</td>\n",
       "      <td>Two Seaters</td>\n",
       "      <td>Premium</td>\n",
       "      <td>9.155833</td>\n",
       "      <td>34</td>\n",
       "      <td>39</td>\n",
       "      <td>36</td>\n",
       "      <td>246.000000</td>\n",
       "      <td>1100</td>\n",
       "    </tr>\n",
       "    <tr>\n",
       "      <th>35951</th>\n",
       "      <td>smart</td>\n",
       "      <td>fortwo coupe</td>\n",
       "      <td>2016</td>\n",
       "      <td>0.9</td>\n",
       "      <td>3.0</td>\n",
       "      <td>Manual 5-spd</td>\n",
       "      <td>Rear-Wheel Drive</td>\n",
       "      <td>Two Seaters</td>\n",
       "      <td>Premium</td>\n",
       "      <td>9.417429</td>\n",
       "      <td>32</td>\n",
       "      <td>39</td>\n",
       "      <td>35</td>\n",
       "      <td>255.000000</td>\n",
       "      <td>1150</td>\n",
       "    </tr>\n",
       "  </tbody>\n",
       "</table>\n",
       "<p>35952 rows × 15 columns</p>\n",
       "</div>"
      ],
      "text/plain": [
       "                   Make                Model  Year  Engine Displacement  \\\n",
       "0            AM General    DJ Po Vehicle 2WD  1984                  2.5   \n",
       "1            AM General     FJ8c Post Office  1984                  4.2   \n",
       "2            AM General  Post Office DJ5 2WD  1985                  2.5   \n",
       "3            AM General  Post Office DJ8 2WD  1985                  4.2   \n",
       "4      ASC Incorporated                  GNX  1987                  3.8   \n",
       "...                 ...                  ...   ...                  ...   \n",
       "35947             smart         fortwo coupe  2013                  1.0   \n",
       "35948             smart         fortwo coupe  2014                  1.0   \n",
       "35949             smart         fortwo coupe  2015                  1.0   \n",
       "35950             smart         fortwo coupe  2016                  0.9   \n",
       "35951             smart         fortwo coupe  2016                  0.9   \n",
       "\n",
       "       Cylinders     Transmission        Drivetrain  \\\n",
       "0            4.0  Automatic 3-spd     2-Wheel Drive   \n",
       "1            6.0  Automatic 3-spd     2-Wheel Drive   \n",
       "2            4.0  Automatic 3-spd  Rear-Wheel Drive   \n",
       "3            6.0  Automatic 3-spd  Rear-Wheel Drive   \n",
       "4            6.0  Automatic 4-spd  Rear-Wheel Drive   \n",
       "...          ...              ...               ...   \n",
       "35947        3.0        Auto(AM5)  Rear-Wheel Drive   \n",
       "35948        3.0        Auto(AM5)  Rear-Wheel Drive   \n",
       "35949        3.0        Auto(AM5)  Rear-Wheel Drive   \n",
       "35950        3.0        Auto(AM6)  Rear-Wheel Drive   \n",
       "35951        3.0     Manual 5-spd  Rear-Wheel Drive   \n",
       "\n",
       "                     Vehicle Class Fuel Type  Fuel Barrels/Year  City MPG  \\\n",
       "0      Special Purpose Vehicle 2WD   Regular          19.388824        18   \n",
       "1      Special Purpose Vehicle 2WD   Regular          25.354615        13   \n",
       "2      Special Purpose Vehicle 2WD   Regular          20.600625        16   \n",
       "3      Special Purpose Vehicle 2WD   Regular          25.354615        13   \n",
       "4                     Midsize Cars   Premium          20.600625        14   \n",
       "...                            ...       ...                ...       ...   \n",
       "35947                  Two Seaters   Premium           9.155833        34   \n",
       "35948                  Two Seaters   Premium           9.155833        34   \n",
       "35949                  Two Seaters   Premium           9.155833        34   \n",
       "35950                  Two Seaters   Premium           9.155833        34   \n",
       "35951                  Two Seaters   Premium           9.417429        32   \n",
       "\n",
       "       Highway MPG  Combined MPG  CO2 Emission Grams/Mile  Fuel Cost/Year  \n",
       "0               17            17               522.764706            1950  \n",
       "1               13            13               683.615385            2550  \n",
       "2               17            16               555.437500            2100  \n",
       "3               13            13               683.615385            2550  \n",
       "4               21            16               555.437500            2550  \n",
       "...            ...           ...                      ...             ...  \n",
       "35947           38            36               244.000000            1100  \n",
       "35948           38            36               243.000000            1100  \n",
       "35949           38            36               244.000000            1100  \n",
       "35950           39            36               246.000000            1100  \n",
       "35951           39            35               255.000000            1150  \n",
       "\n",
       "[35952 rows x 15 columns]"
      ]
     },
     "execution_count": 24,
     "metadata": {},
     "output_type": "execute_result"
    }
   ],
   "source": [
    "# your code here\n",
    "\n",
    "#read the dataset and store as a variable\n",
    "vehicles = pd.read_csv(\"vehicles.csv\") \n"
   ]
  },
  {
   "cell_type": "code",
   "execution_count": 36,
   "metadata": {},
   "outputs": [
    {
     "data": {
      "image/png": "[encoded data removed]",
      "text/plain": [
       "<Figure size 432x288 with 1 Axes>"
      ]
     },
     "metadata": {
      "needs_background": "light"
     },
     "output_type": "display_data"
    }
   ],
   "source": [
    "sns.distplot(vehicles['Fuel Barrels/Year'], kde=True)\n",
    "vehicles['Fuel Barrels/Year'].plot(kind='hist', density = True, bins=20)\n",
    "vehicles['Fuel Barrels/Year'].plot(kind='kde')\n",
    "plt.show()"
   ]
  },
  {
   "cell_type": "markdown",
   "metadata": {},
   "source": [
    "2. CO2 Emission Grams/Mile "
   ]
  },
  {
   "cell_type": "code",
   "execution_count": 37,
   "metadata": {},
   "outputs": [
    {
     "data": {
      "image/png": "[encoded data removed]",
      "text/plain": [
       "<Figure size 432x288 with 1 Axes>"
      ]
     },
     "metadata": {
      "needs_background": "light"
     },
     "output_type": "display_data"
    }
   ],
   "source": [
    "# your code here\n",
    "sns.distplot(vehicles['CO2 Emission Grams/Mile'], kde=True)\n",
    "vehicles['CO2 Emission Grams/Mile'].plot(kind='hist', density = True, bins=20)\n",
    "vehicles['CO2 Emission Grams/Mile'].plot(kind='kde')\n",
    "plt.show()"
   ]
  },
  {
   "cell_type": "markdown",
   "metadata": {},
   "source": [
    "3. Combined MPG"
   ]
  },
  {
   "cell_type": "code",
   "execution_count": 38,
   "metadata": {},
   "outputs": [
    {
     "data": {
      "image/png": "[encoded data removed]",
      "text/plain": [
       "<Figure size 432x288 with 1 Axes>"
      ]
     },
     "metadata": {
      "needs_background": "light"
     },
     "output_type": "display_data"
    }
   ],
   "source": [
    "# your code here\n",
    "sns.distplot(vehicles['Combined MPG'], kde=True)\n",
    "vehicles['Combined MPG'].plot(kind='hist', density = True, bins=20)\n",
    "vehicles['Combined MPG'].plot(kind='kde')\n",
    "plt.show()"
   ]
  },
  {
   "cell_type": "markdown",
   "metadata": {},
   "source": [
    "Which one(s) of the variables are nearly normally distributed? How do you know?"
   ]
  },
  {
   "cell_type": "code",
   "execution_count": null,
   "metadata": {},
   "outputs": [],
   "source": [
    "# you answer here:\n",
    "'''\n",
    "\n",
    "They are all normally distributed as they have graphs that are bell shapped and roughly 68% of results\n",
    "\n",
    "are within one stadndard devaition from the mean\n",
    "'''"
   ]
  },
  {
   "cell_type": "markdown",
   "metadata": {},
   "source": [
    "## Exponential Distribution"
   ]
  },
  {
   "cell_type": "markdown",
   "metadata": {},
   "source": [
    "1. Using `numpy.random.exponential`, create a function that returns a list of numbers exponentially distributed with the mean of 10. \n",
    "\n",
    "1. Use the function to generate two number sequences with a mean of 1 and 100 and a size of 1000.\n",
    "\n",
    "1. Plot the distributions as histograms with the number of bins as 100.\n",
    "\n",
    "Your output should look like below:\n",
    "\n",
    "![exponential distribution](ed.png)"
   ]
  },
  {
   "cell_type": "code",
   "execution_count": 40,
   "metadata": {},
   "outputs": [
    {
     "data": {
      "text/plain": [
       "1.6060060387236506"
      ]
     },
     "execution_count": 40,
     "metadata": {},
     "output_type": "execute_result"
    }
   ],
   "source": [
    "# your code here\n",
    "\n",
    "np.random.exponential()"
   ]
  },
  {
   "cell_type": "code",
   "execution_count": 41,
   "metadata": {},
   "outputs": [],
   "source": [
    "def exponential(mean, size):\n",
    "    return np.random.exponential(scale=mean, size=size)"
   ]
  },
  {
   "cell_type": "code",
   "execution_count": 42,
   "metadata": {},
   "outputs": [],
   "source": [
    "exponential1 = exponential(10, 10000)\n",
    "exponential2 = exponential(1, 10000)\n",
    "exponential3 = exponential(100, 10000)\n"
   ]
  },
  {
   "cell_type": "code",
   "execution_count": 43,
   "metadata": {},
   "outputs": [
    {
     "data": {
      "text/plain": [
       "<matplotlib.axes._subplots.AxesSubplot at 0x27be8d9f940>"
      ]
     },
     "execution_count": 43,
     "metadata": {},
     "output_type": "execute_result"
    },
    {
     "data": {
      "image/png": "[encoded data removed]",
      "text/plain": [
       "<Figure size 432x288 with 1 Axes>"
      ]
     },
     "metadata": {
      "needs_background": "light"
     },
     "output_type": "display_data"
    }
   ],
   "source": [
    "sns.distplot(exponential2, kde=False)"
   ]
  },
  {
   "cell_type": "code",
   "execution_count": 44,
   "metadata": {},
   "outputs": [
    {
     "data": {
      "text/plain": [
       "<matplotlib.axes._subplots.AxesSubplot at 0x27be8f1e610>"
      ]
     },
     "execution_count": 44,
     "metadata": {},
     "output_type": "execute_result"
    },
    {
     "data": {
      "image/png": "[encoded data removed]",
      "text/plain": [
       "<Figure size 432x288 with 1 Axes>"
      ]
     },
     "metadata": {
      "needs_background": "light"
     },
     "output_type": "display_data"
    }
   ],
   "source": [
    "sns.distplot(exponential3, kde=False)"
   ]
  },
  {
   "cell_type": "markdown",
   "metadata": {},
   "source": [
    "How are the two distributions different?"
   ]
  },
  {
   "cell_type": "code",
   "execution_count": null,
   "metadata": {},
   "outputs": [],
   "source": [
    "# your answer here:\n",
    "'''\n",
    "The graphs are both exponentially distributed.\n",
    "\n",
    "However the larger the absolute mean, the larger the absolute std deviation, which  makes the range on the y axis much larger\n",
    "(0-2 Vs 0-1000)\n",
    "'''"
   ]
  },
  {
   "cell_type": "markdown",
   "metadata": {},
   "source": [
    "## Exponential Distribution of Real Data\n",
    "\n",
    "Suppose that the amount of time one spends in a bank is exponentially distributed with mean as 10 minutes (i.e. λ = 1/10). What is the probability that a customer will spend less than fifteen minutes in the bank? \n",
    "\n",
    "Write a code in python to solve this problem"
   ]
  },
  {
   "cell_type": "code",
   "execution_count": 45,
   "metadata": {},
   "outputs": [
    {
     "data": {
      "text/plain": [
       "0.9087887802741321"
      ]
     },
     "execution_count": 45,
     "metadata": {},
     "output_type": "execute_result"
    }
   ],
   "source": [
    "# your answer here\n",
    "# Hint: This is same as saying P(x<15)\n"
   ]
  },
  {
   "cell_type": "code",
   "execution_count": 50,
   "metadata": {},
   "outputs": [
    {
     "data": {
      "text/plain": [
       "0.7768698398515702"
      ]
     },
     "execution_count": 50,
     "metadata": {},
     "output_type": "execute_result"
    }
   ],
   "source": [
    "from scipy.stats import expon\n",
    "\n",
    "expon.cdf(15, scale=10)"
   ]
  },
  {
   "cell_type": "markdown",
   "metadata": {},
   "source": [
    "What is the probability that the customer will spend more than 15 minutes"
   ]
  },
  {
   "cell_type": "code",
   "execution_count": null,
   "metadata": {},
   "outputs": [],
   "source": [
    "# your answer here\n",
    "\n",
    "'''\n",
    "1 - 0.77(P15<15) = 0.23\n",
    "\n",
    "'''"
   ]
  }
 ],
 "metadata": {
  "kernelspec": {
   "display_name": "Python 3",
   "language": "python",
   "name": "python3"
  },
  "language_info": {
   "codemirror_mode": {
    "name": "ipython",
    "version": 3
   },
   "file_extension": ".py",
   "mimetype": "text/x-python",
   "name": "python",
   "nbconvert_exporter": "python",
   "pygments_lexer": "ipython3",
   "version": "3.8.3"
  }
 },
 "nbformat": 4,
 "nbformat_minor": 2
}
